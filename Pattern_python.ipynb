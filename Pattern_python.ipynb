{
 "cells": [
  {
   "cell_type": "code",
   "execution_count": 12,
   "id": "60bd6d66",
   "metadata": {},
   "outputs": [
    {
     "name": "stdout",
     "output_type": "stream",
     "text": [
      "Enter the number : 5\n",
      "What symbol want to use : #\n",
      "#   #   #   #   #   \n",
      "#   #   #   #   #   \n",
      "#   #   #   #   #   \n",
      "#   #   #   #   #   \n",
      "#   #   #   #   #   \n"
     ]
    }
   ],
   "source": [
    "# the square pattern of \"*\"\n",
    "num = int(input(\"Enter the number : \")) # for length and breadth\n",
    "string = input(\"What symbol want to use : \") # symabol to create square\n",
    "for i in range(1,num+1): # loop i for breadth or row\n",
    "    for j in range(1,num+1): # loop j for length or column\n",
    "        print(string,\" \",end=\" \") # print pattern\n",
    "    print() # new line"
   ]
  },
  {
   "cell_type": "code",
   "execution_count": 8,
   "id": "38bf56ba",
   "metadata": {},
   "outputs": [
    {
     "name": "stdout",
     "output_type": "stream",
     "text": [
      "Enter the number of rows you want : 5\n",
      "12345\n",
      "12345\n",
      "12345\n"
     ]
    }
   ],
   "source": [
    "# pattern :-\n",
    "# input = 5\n",
    "# output:-\n",
    "# 12345\n",
    "# 12345\n",
    "# 12345\n",
    "num = int(input(\"Enter the number of rows you want : \")) \n",
    "for i in range(1,4): # loop for row \n",
    "    for j in range(1,num+1): # loop for pattern\n",
    "        print(j,end=\"\")\n",
    "    print() # new line"
   ]
  },
  {
   "cell_type": "code",
   "execution_count": 11,
   "id": "a39713ef",
   "metadata": {},
   "outputs": [
    {
     "name": "stdout",
     "output_type": "stream",
     "text": [
      "Enter the number of rows you want : 8\n",
      "87654321\n",
      "87654321\n",
      "87654321\n"
     ]
    }
   ],
   "source": [
    "# pattern :-\n",
    "# input = 5\n",
    "# output:-\n",
    "# 54321\n",
    "# 54321\n",
    "# 54321\n",
    "num = int(input(\"Enter the number of rows you want : \"))\n",
    "for i in range(1,4): #loop i for rows\n",
    "    for j in range(num,0,-1): # loop for pattern\n",
    "        print(j,end=\"\")\n",
    "    print() # new line"
   ]
  },
  {
   "cell_type": "code",
   "execution_count": 13,
   "id": "575774f1",
   "metadata": {},
   "outputs": [
    {
     "name": "stdout",
     "output_type": "stream",
     "text": [
      "Enter the number of rows you want : 4\n",
      "Enter the symbol you want : *\n",
      "*\n",
      "**\n",
      "***\n",
      "****\n"
     ]
    }
   ],
   "source": [
    "# right angle triangle using symbol\n",
    "# *\n",
    "# **\n",
    "# ***\n",
    "# ****\n",
    "num = int(input(\"Enter the number of rows you want : \"))  #rows input\n",
    "string = input(\"Enter the symbol you want : \") # string\n",
    "for i in range(1,num+1): # loop for rows \n",
    "    for j in range(1,i+1): # loop for pattern printing\n",
    "        print(string,end=\"\")\n",
    "    print() # new line"
   ]
  },
  {
   "cell_type": "code",
   "execution_count": 18,
   "id": "5f9aa036",
   "metadata": {},
   "outputs": [
    {
     "name": "stdout",
     "output_type": "stream",
     "text": [
      "Enter the number of rows you want : 6\n",
      "Enter the symbol you want pattern of : *\n",
      "*****\n",
      "****\n",
      "***\n",
      "**\n",
      "*\n",
      "\n"
     ]
    }
   ],
   "source": [
    "#reverse right angle triangle\n",
    "# ****\n",
    "# ***\n",
    "# **\n",
    "# *\n",
    "num = int(input(\"Enter the number of rows you want : \")) # rows input\n",
    "string = input(\"Enter the symbol you want pattern of : \") # string\n",
    "for i in range(1,num+1): # loop for rows \n",
    "    for j in range(i,num): # loop for pattern printing\n",
    "        print(string,end=\"\")\n",
    "    print()"
   ]
  },
  {
   "cell_type": "code",
   "execution_count": 19,
   "id": "7f4d78b9",
   "metadata": {},
   "outputs": [
    {
     "name": "stdout",
     "output_type": "stream",
     "text": [
      "Enter the number of rows you want : 4\n",
      "1\n",
      "12\n",
      "123\n",
      "1234\n"
     ]
    }
   ],
   "source": [
    "#right angle triangle using numbers \n",
    "# 1\n",
    "# 12\n",
    "# 123\n",
    "# 1234\n",
    "num = int(input(\"Enter the number of rows you want : \")) # rows input\n",
    "for i in range(1,num+1): # loop for rows \n",
    "    for j in range(1,i+1): # loop for pattern printing\n",
    "        print(j,end=\"\")\n",
    "    print()"
   ]
  },
  {
   "cell_type": "code",
   "execution_count": 20,
   "id": "37e263af",
   "metadata": {},
   "outputs": [
    {
     "name": "stdout",
     "output_type": "stream",
     "text": [
      "Enter the number of rows you want : 4\n",
      "A\n",
      "AB\n",
      "ABC\n",
      "ABCD\n"
     ]
    }
   ],
   "source": [
    "# right angle triangle using alphabet\n",
    "# A\n",
    "# AB\n",
    "# ABC\n",
    "# ABCD\n",
    "num = int(input(\"Enter the number of rows you want : \")) #rows input\n",
    "for i in range(1,num+1): #loop for rows \n",
    "    for j in range(65,65+i): #loop for pattern\n",
    "        print(chr(j),end=\"\")\n",
    "    print()"
   ]
  },
  {
   "cell_type": "code",
   "execution_count": 23,
   "id": "b72c210f",
   "metadata": {},
   "outputs": [
    {
     "name": "stdout",
     "output_type": "stream",
     "text": [
      "Enter the number of rows you want : 5\n",
      "1 \n",
      "2 3 \n",
      "4 5 6 \n",
      "7 8 9 10 \n",
      "11 12 13 14 15 \n"
     ]
    }
   ],
   "source": [
    "# right angle triangle using numbers in continued way\n",
    "# 1\n",
    "# 23\n",
    "# 456\n",
    "# 78910\n",
    "num = int(input(\"Enter the number of rows you want : \")) #input rows \n",
    "n = 1 #varieable for continue way pattern \n",
    "for i in range(1,num+1): #loop for rows\n",
    "    for j in range(1,i+1): #loop for column\n",
    "        print(n,end=\" \") #printing pattern\n",
    "        n+=1 #increasing \n",
    "    print()"
   ]
  },
  {
   "cell_type": "code",
   "execution_count": 30,
   "id": "ee537e08",
   "metadata": {},
   "outputs": [
    {
     "name": "stdout",
     "output_type": "stream",
     "text": [
      "10  \n",
      "9  8  \n",
      "7  6  5  \n",
      "4  3  2  1  \n"
     ]
    }
   ],
   "source": [
    "# pattern :-\n",
    "# 10  \n",
    "# 9  8  \n",
    "# 7  6  5  \n",
    "# 4  3  2  1  \n",
    "num = 10 # variable\n",
    "for i in range(0,4): # loop for rows \n",
    "    for _ in range(i+1): # loop for pattern\n",
    "        print(num,end=\"  \")\n",
    "        num-=1 # decreasing \n",
    "    print() # new line"
   ]
  },
  {
   "cell_type": "code",
   "execution_count": 37,
   "id": "c4f585e2",
   "metadata": {},
   "outputs": [
    {
     "name": "stdout",
     "output_type": "stream",
     "text": [
      "Z \n",
      "X V \n",
      "T R P \n",
      "N L J H \n"
     ]
    }
   ],
   "source": [
    "# pattern of reverse alphabet and right angle triangle with step of 2\n",
    "num = 90 #acsii value for Z\n",
    "for i in range(1,5): #loop for rows \n",
    "    for j in range(1,i+1): #loop for column\n",
    "        print(chr(num),end=\" \") #printing pattern\n",
    "        num -= 2 #decreasing by two for step of 2 \n",
    "    print()# new line "
   ]
  },
  {
   "cell_type": "code",
   "execution_count": 36,
   "id": "054989b5",
   "metadata": {},
   "outputs": [
    {
     "name": "stdout",
     "output_type": "stream",
     "text": [
      "1 a \n",
      "2 b 3 c \n",
      "4 d 5 e 6 f \n"
     ]
    }
   ],
   "source": [
    "# 1 a \n",
    "# 2 b 3 c \n",
    "# 4 d 5 e 6 f\n",
    "num = 1 #variable for number \n",
    "char = 97 #variable for ascii a\n",
    "for i in range(1,4): #loop for rows \n",
    "    for j in range(1,i+1): #loop for column\n",
    "        print(num,chr(char),end=\" \") #printing pattern\n",
    "        num +=1 #increasing the number \n",
    "        char +=1 #increasing the value\n",
    "    print() #new line"
   ]
  },
  {
   "cell_type": "code",
   "execution_count": 49,
   "id": "98ab9ec4",
   "metadata": {},
   "outputs": [
    {
     "name": "stdout",
     "output_type": "stream",
     "text": [
      "Enter the height of traiangle : 9\n",
      "Enter the symbol you want to use : %\n",
      "% \n",
      "% % \n",
      "%   %\n",
      "%     %\n",
      "%       %\n",
      "%         %\n",
      "%           %\n",
      "%             %\n",
      "% % % % % % % % % \n"
     ]
    }
   ],
   "source": [
    "# right angle triangle with pattern with space \n",
    "n = int(input(\"Enter the height of traiangle : \")) #input the height of triangle or rows\n",
    "string = input(\"Enter the symbol you want to use : \") #input the symbol \n",
    "m = n #storing for future use \n",
    "if n >= 2: #should greater than or equal to 2\n",
    "    #top of the triangle\n",
    "    for i in range(1,3): #loop for rows  \n",
    "        for j in range(1,i+1): #loop for column\n",
    "            print(string,end=\" \") #printing the string \n",
    "        print() #new line\n",
    "        \n",
    "    n-=2 #decreasing by 2 as printed the top of the triangle \n",
    "    k=1 #variable for space count\n",
    "    #bottom of triangle\n",
    "    if n!=0: #should not equal to 0\n",
    "        for i in range(1,n): #loop for row\n",
    "            print(f\"{string}{k * '  '} {string}\") #pattern printing\n",
    "            k+=1 #increasing space count by 1\n",
    "        print(f\"{string} \" *m) #last line printing \n",
    "else: \n",
    "    print(\"Please enter height greater than or equal to 2\")"
   ]
  },
  {
   "cell_type": "code",
   "execution_count": null,
   "id": "3cbfa478",
   "metadata": {},
   "outputs": [],
   "source": []
  }
 ],
 "metadata": {
  "kernelspec": {
   "display_name": "Python 3 (ipykernel)",
   "language": "python",
   "name": "python3"
  },
  "language_info": {
   "codemirror_mode": {
    "name": "ipython",
    "version": 3
   },
   "file_extension": ".py",
   "mimetype": "text/x-python",
   "name": "python",
   "nbconvert_exporter": "python",
   "pygments_lexer": "ipython3",
   "version": "3.10.9"
  }
 },
 "nbformat": 4,
 "nbformat_minor": 5
}
