{
 "cells": [
  {
   "cell_type": "code",
   "execution_count": 4,
   "id": "d04d7e48",
   "metadata": {},
   "outputs": [
    {
     "name": "stdout",
     "output_type": "stream",
     "text": [
      "1 2 3 4 * \n",
      "5 6 7 * * \n",
      "8 9 * * * \n",
      "10 * * * * \n"
     ]
    }
   ],
   "source": [
    "#pattern\n",
    "# 1 2 3 4 * \n",
    "# 5 6 7 * * \n",
    "# 8 9 * * * \n",
    "# 10 * * * * \n",
    "num = 1 # for increament number\n",
    "for i in range(1,5): #loop for rows \n",
    "    for j in range(i,5): # loop for columns \n",
    "        print(num,end=\" \") #pattern printing\n",
    "        num+=1 #increamenting by 1 \n",
    "    for k in range(1,i+1): #loop for pattern of *\n",
    "        print(\"*\", end=\" \") #pattern printing\n",
    "    print() #new line"
   ]
  },
  {
   "cell_type": "code",
   "execution_count": 5,
   "id": "44a62325",
   "metadata": {},
   "outputs": [
    {
     "name": "stdout",
     "output_type": "stream",
     "text": [
      "A B C D 1 \n",
      "A B C 1 2 \n",
      "A B 1 2 3 \n",
      "A 1 2 3 4 \n"
     ]
    }
   ],
   "source": [
    "'''pattern\n",
    "A B C D 1 \n",
    "A B C 1 2 \n",
    "A B 1 2 3 \n",
    "A 1 2 3 4 '''\n",
    "char = 65 #ascii value of A\n",
    "for i in range(1,5): #loop for rows \n",
    "    for j in range(i,5): #loop for columns \n",
    "        print(chr(char),end=\" \")  #pattern printing\n",
    "        char+=1 #Increament by 1\n",
    "    char=65 #reintialize\n",
    "    for k in range(1,i+1): #loop for printing numbers \n",
    "        print(k,end=\" \")\n",
    "    print()# new line"
   ]
  },
  {
   "cell_type": "code",
   "execution_count": 7,
   "id": "83dbb8f7",
   "metadata": {},
   "outputs": [
    {
     "name": "stdout",
     "output_type": "stream",
     "text": [
      "A B C D 1 \n",
      "E F G 2 3 \n",
      "H I 4 5 6 \n",
      "J 7 8 9 10 \n"
     ]
    }
   ],
   "source": [
    "'''pattern\n",
    "A B C D 1 \n",
    "E F G 2 3 \n",
    "H I 4 5 6 \n",
    "J 7 8 9 10 '''\n",
    "char = 65 #character for acsii value of A\n",
    "num = 1\n",
    "for i in range(1,5): #loop for row\n",
    "    for j in range(i,5): #loop for column\n",
    "        print(chr(char),end=\" \") #printing pattern of alphabet\n",
    "        char+=1 #increament by 1\n",
    "    for k in range(1,i+1): # loop for printing numbers\n",
    "        print(num,end=\" \") #printing pattern\n",
    "        num+=1 #increament by one\n",
    "    print() #new line"
   ]
  },
  {
   "cell_type": "code",
   "execution_count": 11,
   "id": "c85b117a",
   "metadata": {},
   "outputs": [
    {
     "name": "stdout",
     "output_type": "stream",
     "text": [
      "        A \n",
      "      B C \n",
      "    D E F \n",
      "  G H I J \n"
     ]
    }
   ],
   "source": [
    "'''pattern\n",
    "       A \n",
    "      B C \n",
    "    D E F \n",
    "  G H I J \n",
    "'''\n",
    "char = 65 #acsii value of A\n",
    "for i in range(1,5): #loop for rows\n",
    "    for j in range(i,5): #loop for space\n",
    "        print(\" \",end=\" \") #printing space\n",
    "    for k in range(1,i+1): #loop for pattern\n",
    "        print(chr(char),end=\" \") #printing value\n",
    "        char+=1 #increament by 1\n",
    "    print() #new line"
   ]
  },
  {
   "cell_type": "code",
   "execution_count": 14,
   "id": "8c07d188",
   "metadata": {},
   "outputs": [
    {
     "name": "stdout",
     "output_type": "stream",
     "text": [
      " * * * * * \n",
      "   * * * \n",
      "     * \n"
     ]
    }
   ],
   "source": [
    "''' pattern\n",
    " * * * * * \n",
    "   * * * \n",
    "     * \n",
    "'''\n",
    "for i in range(1,6,2): #loop for pattern printing with steps of 2 (odd numbers)\n",
    "    for k in range(i): #loop for space\n",
    "        print(\" \",end=\"\")#printing space\n",
    "    for j in range(6-i): #loop for printing star\n",
    "        print(\"*\",end=\" \") \n",
    "    print() #new line"
   ]
  },
  {
   "cell_type": "code",
   "execution_count": null,
   "id": "23b2d1dc",
   "metadata": {},
   "outputs": [],
   "source": []
  },
  {
   "cell_type": "code",
   "execution_count": null,
   "id": "216e5b11",
   "metadata": {},
   "outputs": [],
   "source": []
  }
 ],
 "metadata": {
  "kernelspec": {
   "display_name": "Python 3 (ipykernel)",
   "language": "python",
   "name": "python3"
  },
  "language_info": {
   "codemirror_mode": {
    "name": "ipython",
    "version": 3
   },
   "file_extension": ".py",
   "mimetype": "text/x-python",
   "name": "python",
   "nbconvert_exporter": "python",
   "pygments_lexer": "ipython3",
   "version": "3.10.9"
  }
 },
 "nbformat": 4,
 "nbformat_minor": 5
}
